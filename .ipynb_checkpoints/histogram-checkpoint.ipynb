{
 "cells": [
  {
   "cell_type": "code",
   "execution_count": 9,
   "id": "1cf7abc2",
   "metadata": {},
   "outputs": [
    {
     "name": "stdout",
     "output_type": "stream",
     "text": [
      "    Name  Result\n",
      "0      1     100\n",
      "1      2      50\n",
      "2      3      60\n",
      "3      4      70\n",
      "4      5      65\n",
      "5      6      61\n",
      "6      7      25\n",
      "7      8      99\n",
      "8      9      45\n",
      "9     10      63\n",
      "10    11      44\n",
      "11    12      53\n",
      "12    13      10\n",
      "13    14      78\n",
      "14    15      35\n",
      "15    16      49\n",
      "16    17      58\n",
      "17    18      67\n",
      "18    19      79\n",
      "19    20      95\n",
      "20    21      24\n",
      "21    22      19\n",
      "22    23       5\n",
      "23    24       0\n",
      "24    25      59\n",
      "25    26      37\n",
      "26    27      67\n",
      "27    28      89\n",
      "28    29      51\n",
      "29    30      54\n",
      "30    31      56\n",
      "31    32      10\n",
      "32    33      14\n",
      "33    34      36\n",
      "34    35      97\n",
      "35    36      50\n",
      "36    37      46\n",
      "37    38      68\n",
      "38    39      31\n",
      "39    40      64\n",
      "40    41      50\n",
      "41    42      57\n",
      "42    43      49\n",
      "43    44      68\n",
      "44    45      36\n",
      "45    46      49\n",
      "46    47      52\n",
      "47    48      15\n",
      "48    49      80\n"
     ]
    },
    {
     "data": {
      "text/plain": [
       "<AxesSubplot:xlabel='Result', ylabel='Count'>"
      ]
     },
     "execution_count": 9,
     "metadata": {},
     "output_type": "execute_result"
    },
    {
     "data": {
      "image/png": "[encoded data removed]",
      "text/plain": [
       "<Figure size 432x288 with 1 Axes>"
      ]
     },
     "metadata": {
      "needs_background": "light"
     },
     "output_type": "display_data"
    }
   ],
   "source": [
    "import numpy as np\n",
    "import matplotlib as mpl\n",
    "import matplotlib.pyplot as plt\n",
    "import pandas as pd\n",
    "import seaborn as sns\n",
    "\n",
    "csv_file = './source_data.csv'\n",
    "\n",
    "df = pd.read_csv(csv_file)\n",
    "\n",
    "print(df)\n",
    "\n",
    "sns.histplot(df['Result'])"
   ]
  },
  {
   "cell_type": "code",
   "execution_count": null,
   "id": "59ee745c",
   "metadata": {},
   "outputs": [],
   "source": []
  }
 ],
 "metadata": {
  "kernelspec": {
   "display_name": "Python 3 (ipykernel)",
   "language": "python",
   "name": "python3"
  },
  "language_info": {
   "codemirror_mode": {
    "name": "ipython",
    "version": 3
   },
   "file_extension": ".py",
   "mimetype": "text/x-python",
   "name": "python",
   "nbconvert_exporter": "python",
   "pygments_lexer": "ipython3",
   "version": "3.9.7"
  }
 },
 "nbformat": 4,
 "nbformat_minor": 5
}
